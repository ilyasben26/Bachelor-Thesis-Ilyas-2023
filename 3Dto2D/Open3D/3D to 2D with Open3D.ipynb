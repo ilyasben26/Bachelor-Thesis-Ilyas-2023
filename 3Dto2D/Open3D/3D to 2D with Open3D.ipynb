{
 "cells": [
  {
   "cell_type": "code",
   "execution_count": 2,
   "id": "8d9730e8",
   "metadata": {},
   "outputs": [],
   "source": [
    "import open3d as o3d\n",
    "import numpy as np"
   ]
  },
  {
   "cell_type": "code",
   "execution_count": 3,
   "id": "a22e8469",
   "metadata": {},
   "outputs": [],
   "source": [
    "def visualize(mesh):\n",
    "    vis = o3d.visualization.Visualizer()\n",
    "    vis.create_window()\n",
    "    vis.add_geometry(mesh)\n",
    "    vis.run()\n",
    "    vis.destroy_window()"
   ]
  },
  {
   "cell_type": "code",
   "execution_count": 4,
   "id": "c498cff9",
   "metadata": {},
   "outputs": [
    {
     "name": "stdout",
     "output_type": "stream",
     "text": [
      "[Open3D INFO] Skipping non-triangle primitive geometry of type: 12\n",
      "[Open3D INFO] Skipping non-triangle primitive geometry of type: 12\n",
      "[Open3D INFO] Skipping non-triangle primitive geometry of type: 12\n",
      "[Open3D INFO] Skipping non-triangle primitive geometry of type: 12\n",
      "[Open3D INFO] Skipping non-triangle primitive geometry of type: 12\n",
      "[Open3D INFO] Skipping non-triangle primitive geometry of type: 12\n",
      "[Open3D INFO] Skipping non-triangle primitive geometry of type: 12\n",
      "[Open3D INFO] Skipping non-triangle primitive geometry of type: 12\n",
      "[Open3D INFO] Skipping non-triangle primitive geometry of type: 12\n",
      "[Open3D INFO] Skipping non-triangle primitive geometry of type: 12\n",
      "[Open3D INFO] Skipping non-triangle primitive geometry of type: 12\n",
      "[Open3D INFO] Skipping non-triangle primitive geometry of type: 12\n",
      "[Open3D INFO] Skipping non-triangle primitive geometry of type: 12\n",
      "[Open3D INFO] Skipping non-triangle primitive geometry of type: 12\n",
      "[Open3D INFO] Skipping non-triangle primitive geometry of type: 12\n",
      "[Open3D INFO] Skipping non-triangle primitive geometry of type: 12\n",
      "[Open3D INFO] Skipping non-triangle primitive geometry of type: 12\n",
      "[Open3D INFO] Skipping non-triangle primitive geometry of type: 12\n",
      "[Open3D INFO] Skipping non-triangle primitive geometry of type: 8\n",
      "[Open3D INFO] Skipping non-triangle primitive geometry of type: 12\n",
      "[Open3D INFO] Skipping non-triangle primitive geometry of type: 12\n",
      "[Open3D INFO] Skipping non-triangle primitive geometry of type: 12\n",
      "[Open3D INFO] Skipping non-triangle primitive geometry of type: 8\n",
      "[Open3D INFO] Skipping non-triangle primitive geometry of type: 12\n",
      "[Open3D INFO] Skipping non-triangle primitive geometry of type: 12\n",
      "[Open3D INFO] Skipping non-triangle primitive geometry of type: 12\n",
      "[Open3D INFO] Skipping non-triangle primitive geometry of type: 8\n",
      "[Open3D INFO] Skipping non-triangle primitive geometry of type: 12\n",
      "[Open3D INFO] Skipping non-triangle primitive geometry of type: 12\n",
      "[Open3D INFO] Skipping non-triangle primitive geometry of type: 12\n",
      "[Open3D INFO] Skipping non-triangle primitive geometry of type: 12\n",
      "[Open3D INFO] Skipping non-triangle primitive geometry of type: 12\n",
      "[Open3D INFO] Skipping non-triangle primitive geometry of type: 12\n",
      "[Open3D INFO] Skipping non-triangle primitive geometry of type: 8\n",
      "[Open3D INFO] Skipping non-triangle primitive geometry of type: 12\n",
      "[Open3D INFO] Skipping non-triangle primitive geometry of type: 12\n",
      "[Open3D INFO] Skipping non-triangle primitive geometry of type: 12\n",
      "[Open3D INFO] Skipping non-triangle primitive geometry of type: 12\n",
      "[Open3D INFO] Skipping non-triangle primitive geometry of type: 12\n",
      "[Open3D INFO] Skipping non-triangle primitive geometry of type: 12\n",
      "[Open3D INFO] Skipping non-triangle primitive geometry of type: 12\n",
      "[Open3D INFO] Skipping non-triangle primitive geometry of type: 12\n",
      "[Open3D INFO] Skipping non-triangle primitive geometry of type: 12\n",
      "\u001b[1;33m[Open3D WARNING] GLFW Error: Cocoa: Failed to find service port for display\u001b[0;m\n",
      "\u001b[1;33m[Open3D WARNING] GLFW Error: Cocoa: Failed to find service port for display\u001b[0;m\n"
     ]
    },
    {
     "ename": "KeyboardInterrupt",
     "evalue": "",
     "output_type": "error",
     "traceback": [
      "\u001b[0;31m---------------------------------------------------------------------------\u001b[0m",
      "\u001b[0;31mKeyboardInterrupt\u001b[0m                         Traceback (most recent call last)",
      "Cell \u001b[0;32mIn[4], line 2\u001b[0m\n\u001b[1;32m      1\u001b[0m mesh \u001b[38;5;241m=\u001b[39m o3d\u001b[38;5;241m.\u001b[39mio\u001b[38;5;241m.\u001b[39mread_triangle_mesh(\u001b[38;5;124m\"\u001b[39m\u001b[38;5;124m./objects/audi.obj\u001b[39m\u001b[38;5;124m\"\u001b[39m)\n\u001b[0;32m----> 2\u001b[0m \u001b[43mvisualize\u001b[49m\u001b[43m(\u001b[49m\u001b[43mmesh\u001b[49m\u001b[43m)\u001b[49m\n",
      "Cell \u001b[0;32mIn[3], line 5\u001b[0m, in \u001b[0;36mvisualize\u001b[0;34m(mesh)\u001b[0m\n\u001b[1;32m      3\u001b[0m vis\u001b[38;5;241m.\u001b[39mcreate_window()\n\u001b[1;32m      4\u001b[0m vis\u001b[38;5;241m.\u001b[39madd_geometry(mesh)\n\u001b[0;32m----> 5\u001b[0m \u001b[43mvis\u001b[49m\u001b[38;5;241;43m.\u001b[39;49m\u001b[43mrun\u001b[49m\u001b[43m(\u001b[49m\u001b[43m)\u001b[49m\n\u001b[1;32m      6\u001b[0m vis\u001b[38;5;241m.\u001b[39mdestroy_window()\n",
      "\u001b[0;31mKeyboardInterrupt\u001b[0m: "
     ]
    }
   ],
   "source": [
    "mesh = o3d.io.read_triangle_mesh(\"./objects/audi.obj\")\n",
    "visualize(mesh)"
   ]
  },
  {
   "cell_type": "code",
   "execution_count": null,
   "id": "21fd0d6c",
   "metadata": {},
   "outputs": [],
   "source": []
  }
 ],
 "metadata": {
  "kernelspec": {
   "display_name": "Python 3 (ipykernel)",
   "language": "python",
   "name": "python3"
  },
  "language_info": {
   "codemirror_mode": {
    "name": "ipython",
    "version": 3
   },
   "file_extension": ".py",
   "mimetype": "text/x-python",
   "name": "python",
   "nbconvert_exporter": "python",
   "pygments_lexer": "ipython3",
   "version": "3.10.0"
  }
 },
 "nbformat": 4,
 "nbformat_minor": 5
}
