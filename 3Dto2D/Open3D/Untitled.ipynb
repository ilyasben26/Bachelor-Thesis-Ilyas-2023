{
 "cells": [
  {
   "cell_type": "code",
   "execution_count": 5,
   "id": "8eed9548",
   "metadata": {},
   "outputs": [],
   "source": [
    "from PIL import Image\n",
    "from pywavefront import Wavefront\n",
    "from pywavefront import ObjParser\n",
    "import pyglet"
   ]
  },
  {
   "cell_type": "code",
   "execution_count": 14,
   "id": "b61919cd",
   "metadata": {},
   "outputs": [
    {
     "name": "stdout",
     "output_type": "stream",
     "text": [
      "\u001b[31mERROR: Could not find a version that satisfies the requirement pytorch3d (from versions: none)\u001b[0m\r\n",
      "\u001b[31mERROR: No matching distribution found for pytorch3d\u001b[0m\r\n",
      "\u001b[33mWARNING: You are using pip version 21.2.3; however, version 23.0.1 is available.\r\n",
      "You should consider upgrading via the '/Library/Frameworks/Python.framework/Versions/3.10/bin/python3.10 -m pip install --upgrade pip' command.\u001b[0m\r\n"
     ]
    }
   ],
   "source": [
    "! pip3 install pytorch3d"
   ]
  },
  {
   "cell_type": "code",
   "execution_count": 13,
   "id": "e6033163",
   "metadata": {},
   "outputs": [
    {
     "ename": "TypeError",
     "evalue": "ObjParser.__init__() missing 1 required positional argument: 'file_name'",
     "output_type": "error",
     "traceback": [
      "\u001b[0;31m---------------------------------------------------------------------------\u001b[0m",
      "\u001b[0;31mTypeError\u001b[0m                                 Traceback (most recent call last)",
      "Cell \u001b[0;32mIn[13], line 2\u001b[0m\n\u001b[1;32m      1\u001b[0m \u001b[38;5;66;03m# Load .obj file\u001b[39;00m\n\u001b[0;32m----> 2\u001b[0m obj \u001b[38;5;241m=\u001b[39m \u001b[43mObjParser\u001b[49m\u001b[43m(\u001b[49m\u001b[38;5;124;43m\"\u001b[39;49m\u001b[38;5;124;43maudi.obj\u001b[39;49m\u001b[38;5;124;43m\"\u001b[39;49m\u001b[43m)\u001b[49m\n\u001b[1;32m      4\u001b[0m \u001b[38;5;66;03m# Render it with PyOpenGL\u001b[39;00m\n\u001b[1;32m      5\u001b[0m window \u001b[38;5;241m=\u001b[39m pyglet\u001b[38;5;241m.\u001b[39mwindow\u001b[38;5;241m.\u001b[39mWindow()\n",
      "\u001b[0;31mTypeError\u001b[0m: ObjParser.__init__() missing 1 required positional argument: 'file_name'"
     ]
    }
   ],
   "source": [
    "# Load .obj file\n",
    "obj = ObjParser(\"audi.obj\")\n",
    "\n",
    "# Render it with PyOpenGL\n",
    "window = pyglet.window.Window()\n",
    "@window.event\n",
    "def on_draw():\n",
    "    window.clear()\n",
    "    obj.draw()\n",
    "\n",
    "# Save image with PIL\n",
    "image = Image.frombytes('RGB', window.get_size(), window.get_image_data().get_data('RGB', window.width * 3))\n",
    "image.save('your_image_file.jpg')"
   ]
  },
  {
   "cell_type": "code",
   "execution_count": null,
   "id": "354cab4d",
   "metadata": {},
   "outputs": [],
   "source": []
  }
 ],
 "metadata": {
  "kernelspec": {
   "display_name": "Python 3 (ipykernel)",
   "language": "python",
   "name": "python3"
  },
  "language_info": {
   "codemirror_mode": {
    "name": "ipython",
    "version": 3
   },
   "file_extension": ".py",
   "mimetype": "text/x-python",
   "name": "python",
   "nbconvert_exporter": "python",
   "pygments_lexer": "ipython3",
   "version": "3.10.0"
  }
 },
 "nbformat": 4,
 "nbformat_minor": 5
}
