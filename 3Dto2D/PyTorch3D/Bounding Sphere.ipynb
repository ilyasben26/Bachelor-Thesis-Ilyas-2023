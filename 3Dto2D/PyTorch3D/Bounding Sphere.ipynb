{
 "cells": [
  {
   "cell_type": "code",
   "execution_count": 56,
   "id": "b8ba0e6f",
   "metadata": {},
   "outputs": [],
   "source": [
    "import torch\n",
    "import numpy as np\n",
    "from pytorch3d.io import load_obj\n",
    "\n",
    "if torch.cuda.is_available():\n",
    "    device = torch.device(\"cuda:0\")\n",
    "    torch.cuda.set_device(device)\n",
    "else:\n",
    "    device = torch.device(\"cpu\")"
   ]
  },
  {
   "cell_type": "code",
   "execution_count": 57,
   "id": "1885a543",
   "metadata": {},
   "outputs": [],
   "source": [
    "#obj_filename = \"data/subaru/_Subaru-Loyale.obj\"\n",
    "#obj_filename = \"data/cow_mesh/cow.obj\"\n",
    "obj_filename = \"data/Jeep_Renegade_2016_obj/Jeep_Renegade_2016.obj\"\n",
    "\n",
    "verts, faces, aux = load_obj(\n",
    "    obj_filename,\n",
    "    device=device,\n",
    "    load_textures=True,\n",
    "    create_texture_atlas=True,\n",
    "    texture_atlas_size=4,\n",
    "    texture_wrap=\"repeat\"\n",
    "     )\n",
    "\n",
    "verts=verts.numpy()"
   ]
  },
  {
   "cell_type": "code",
   "execution_count": 58,
   "id": "f59427d8",
   "metadata": {},
   "outputs": [
    {
     "name": "stdout",
     "output_type": "stream",
     "text": [
      "[[-2.16573e-15  1.75011e+00 -1.56400e+00]\n",
      " [-1.80478e-15  1.91707e+00 -1.63125e+00]\n",
      " [-5.92280e-03  1.74645e+00 -1.57319e+00]\n",
      " ...\n",
      " [-7.52819e-01  1.16518e+00  5.26561e-01]\n",
      " [-7.55260e-01  1.15527e+00  4.37650e-01]\n",
      " [-7.84192e-01  1.13348e+00  4.19312e-01]]\n"
     ]
    }
   ],
   "source": [
    "print(verts)"
   ]
  },
  {
   "cell_type": "code",
   "execution_count": 59,
   "id": "d350d950",
   "metadata": {},
   "outputs": [
    {
     "name": "stdout",
     "output_type": "stream",
     "text": [
      "Center: [-0.0625834   0.7186213  -0.05095521]\n",
      "Radius: 2.191200494300574\n"
     ]
    }
   ],
   "source": [
    "def ritter(points, k):\n",
    "    # Initialize center and radius\n",
    "    center = points[np.random.randint(len(points))]\n",
    "    radius = 0\n",
    "\n",
    "    # Iterate k times\n",
    "    for i in range(k):\n",
    "        # Find the farthest point from center\n",
    "        dists = np.linalg.norm(points - center, axis=1)\n",
    "        p = points[np.argmax(dists)]\n",
    "        d = dists.max()\n",
    "\n",
    "        # Update center and radius\n",
    "        if d > radius:\n",
    "            radius = (radius + d) / 2\n",
    "            center = center + (d - radius) * (p - center) / d\n",
    "    \n",
    "    # Return center and radius\n",
    "    return (center, radius)\n",
    "\n",
    "# Call the function with verts as input\n",
    "center, radius = ritter(verts, 10) # k = 10 iterations\n",
    "\n",
    "# Print the output\n",
    "print(f\"Center: {center}\")\n",
    "print(f\"Radius: {radius}\")"
   ]
  },
  {
   "cell_type": "code",
   "execution_count": 55,
   "id": "fba8c894",
   "metadata": {},
   "outputs": [
    {
     "name": "stdout",
     "output_type": "stream",
     "text": [
      "Center: [1.78877499e-08 1.02965936e-01 1.93355814e-01]\n",
      "Radius: 1.0782541036605835\n"
     ]
    }
   ],
   "source": [
    "def bounding_sphere_exact(points):\n",
    "    \"\"\"\n",
    "    Computes the bounding sphere of a set of points in 3D space.\n",
    "    \n",
    "    Args:\n",
    "    - points: a numpy array of shape (n, 3) representing the n points in 3D space\n",
    "    \n",
    "    Returns:\n",
    "    - center: a numpy array of shape (3,) representing the center of the bounding sphere\n",
    "    - radius: a float representing the radius of the bounding sphere\n",
    "    \"\"\"\n",
    "    # Compute the center of mass\n",
    "    center = np.mean(points, axis=0)\n",
    "    \n",
    "    # Compute the radius\n",
    "    radius = np.max(np.linalg.norm(points - center, axis=1))\n",
    "    \n",
    "    return center, radius\n",
    "\n",
    "center, radius = bounding_sphere(verts)\n",
    "# Print the output\n",
    "print(f\"Center: {center}\")\n",
    "print(f\"Radius: {radius}\")"
   ]
  },
  {
   "cell_type": "code",
   "execution_count": null,
   "id": "a80b2c23",
   "metadata": {},
   "outputs": [],
   "source": []
  }
 ],
 "metadata": {
  "kernelspec": {
   "display_name": "Python 3 (ipykernel)",
   "language": "python",
   "name": "python3"
  },
  "language_info": {
   "codemirror_mode": {
    "name": "ipython",
    "version": 3
   },
   "file_extension": ".py",
   "mimetype": "text/x-python",
   "name": "python",
   "nbconvert_exporter": "python",
   "pygments_lexer": "ipython3",
   "version": "3.10.0"
  }
 },
 "nbformat": 4,
 "nbformat_minor": 5
}
